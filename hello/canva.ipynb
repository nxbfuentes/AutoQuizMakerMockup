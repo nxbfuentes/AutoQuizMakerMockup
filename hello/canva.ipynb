{
 "cells": [
  {
   "cell_type": "code",
   "execution_count": 2,
   "metadata": {},
   "outputs": [
    {
     "ename": "ModuleNotFoundError",
     "evalue": "No module named 'pandas'",
     "output_type": "error",
     "traceback": [
      "\u001b[1;31m---------------------------------------------------------------------------\u001b[0m",
      "\u001b[1;31mModuleNotFoundError\u001b[0m                       Traceback (most recent call last)",
      "Cell \u001b[1;32mIn[2], line 1\u001b[0m\n\u001b[1;32m----> 1\u001b[0m \u001b[39mimport\u001b[39;00m \u001b[39mpandas\u001b[39;00m \u001b[39mas\u001b[39;00m \u001b[39mpd\u001b[39;00m\n\u001b[0;32m      3\u001b[0m \u001b[39m# File paths\u001b[39;00m\n\u001b[0;32m      4\u001b[0m restaurant_file \u001b[39m=\u001b[39m \u001b[39m'\u001b[39m\u001b[39mrestaurant.csv\u001b[39m\u001b[39m'\u001b[39m\n",
      "\u001b[1;31mModuleNotFoundError\u001b[0m: No module named 'pandas'"
     ]
    }
   ],
   "source": [
    "import pandas as pd\n",
    "\n",
    "# File paths\n",
    "restaurant_file = 'restaurant.csv'\n",
    "item_file = 'item.csv'\n",
    "\n",
    "# Open restaurant.csv\n",
    "try:\n",
    "    df_restaurant = pd.read_csv(restaurant_file)\n",
    "    print(f'Successfully opened {restaurant_file}')\n",
    "    # Display the contents of the dataframe\n",
    "    print(df_restaurant)\n",
    "except FileNotFoundError:\n",
    "    print(f'Error: {restaurant_file} not found.')\n",
    "\n",
    "# Open item.csv\n",
    "try:\n",
    "    df_item = pd.read_csv(item_file)\n",
    "    print(f'Successfully opened {item_file}')\n",
    "    # Display the contents of the dataframe\n",
    "    print(df_item)\n",
    "except FileNotFoundError:\n",
    "    print(f'Error: {item_file} not found.')\n"
   ]
  }
 ],
 "metadata": {
  "kernelspec": {
   "display_name": "Python 3",
   "language": "python",
   "name": "python3"
  },
  "language_info": {
   "codemirror_mode": {
    "name": "ipython",
    "version": 3
   },
   "file_extension": ".py",
   "mimetype": "text/x-python",
   "name": "python",
   "nbconvert_exporter": "python",
   "pygments_lexer": "ipython3",
   "version": "3.11.4"
  },
  "orig_nbformat": 4
 },
 "nbformat": 4,
 "nbformat_minor": 2
}
